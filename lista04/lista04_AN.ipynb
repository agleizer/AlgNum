{
  "nbformat": 4,
  "nbformat_minor": 0,
  "metadata": {
    "colab": {
      "provenance": []
    },
    "kernelspec": {
      "name": "python3",
      "display_name": "Python 3"
    },
    "language_info": {
      "name": "python"
    }
  },
  "cells": [
    {
      "cell_type": "markdown",
      "source": [
        "# Algoritmos Numéricos - Lista 04: Método de Jacobi\n",
        "Alan Gleizer - 10416804"
      ],
      "metadata": {
        "id": "QiN8-U9wsjGo"
      }
    },
    {
      "cell_type": "markdown",
      "source": [
        "1) Implemente o algoritmo do Método de Jacobi em Python."
      ],
      "metadata": {
        "id": "uLd_frTQs08c"
      }
    },
    {
      "cell_type": "code",
      "source": [
        "def calcularErro(vetor1, vetor2):\n",
        "    maxDiferenca = 0.0\n",
        "    for i in range(len(vetor1)):\n",
        "        diferenca = abs(vetor1[i] - vetor2[i])\n",
        "        if diferenca > maxDiferenca:\n",
        "            maxDiferenca = diferenca\n",
        "    return maxDiferenca\n",
        "\n",
        "# func para resolver um sistema linear usando Jacobi\n",
        "def metodoJacobi(coefsSistema, termosIndSistema, tamanho, vetorSolucao, tolerancia, iteracoesMax):\n",
        "    k = 1\n",
        "    # loop que rodará até a qtd máxima de iterações, a não ser que cheguemos a um resultado antes\n",
        "    while k <= iteracoesMax:\n",
        "        # novo vetor para armazenar temporáriamente a aproximação da iteração atual\n",
        "        novaSolucao = [0.0] * tamanho\n",
        "\n",
        "        # loop somatória (processo iterativo de aproximação)\n",
        "        for i in range(tamanho):\n",
        "            soma = 0.0\n",
        "            for j in range(tamanho):\n",
        "                if i != j:\n",
        "                    # Xn * CHUTEn\n",
        "                    soma += coefsSistema[i][j] * vetorSolucao[j]\n",
        "\n",
        "            # novo valor de x_i = isolar o termo Xi do lado esquerdo = subtrair o Xn * chute e dividir pelo coef.\n",
        "            if (coefsSistema[i][i]) == 0:\n",
        "                print(\"Erro! Existe coeficiente = 0 na diagonal principal.\")\n",
        "                return None\n",
        "            novaSolucao[i] = (termosIndSistema[i] - soma) / coefsSistema[i][i]\n",
        "\n",
        "        # verificar se a solução está dentro da tolerância\n",
        "        if calcularErro(novaSolucao, vetorSolucao) < tolerancia:\n",
        "            print(\"Solução encontrada:\")\n",
        "            return novaSolucao\n",
        "\n",
        "        k += 1\n",
        "\n",
        "        # atualizar vetorSolucao com a aproximação mais recente\n",
        "        vetorSolucao = novaSolucao[:]\n",
        "\n",
        "    # se chegarmos aqui, não atingimos a tolerância dentro do nuymero de iterações permitido\n",
        "    print(\"Erro: o número máximo de iterações excedido.\")\n",
        "    return None"
      ],
      "metadata": {
        "id": "7UrsIklHs5HT"
      },
      "execution_count": 1,
      "outputs": []
    },
    {
      "cell_type": "markdown",
      "source": [
        "2) Teste a sua implementação para os exercícios do método de Gauss que foi\n",
        "proposto na aula anterior com as seguintes tolerâncias ε=0.1, ε=0.01, ε=0.001 e\n",
        "ε=0.0001."
      ],
      "metadata": {
        "id": "P9sVNqWctCt0"
      }
    },
    {
      "cell_type": "code",
      "source": [
        "## EX A\n",
        "\n",
        "# suspeito que esse não vai funcionar por tem elemento = 0 na diagonal principal\n",
        "print(\"\\nLista 3, ex. a:\")\n",
        "lista3exA_matrizCoef = [[1, -1, 3],\n",
        "                        [3, -3, 1],\n",
        "                        [1, 1, 0]]\n",
        "\n",
        "lista3exA_termosInd = [2,-1,3]\n",
        "\n",
        "j = 0\n",
        "tolerancia = 0.1\n",
        "while j < 4:\n",
        "    print(\"Solução com tolerância = \", tolerancia, \": \")\n",
        "    vetorSolucao = [0, 0, 0]\n",
        "    solucao = metodoJacobi(lista3exA_matrizCoef, lista3exA_termosInd, len(lista3exA_termosInd), vetorSolucao, tolerancia, 30)\n",
        "    print(solucao)\n",
        "    tolerancia /= 10\n",
        "    j += 1"
      ],
      "metadata": {
        "colab": {
          "base_uri": "https://localhost:8080/"
        },
        "id": "AJMHFIL3tMGM",
        "outputId": "b2e98d20-33ec-484a-c6bf-cde49b4e71ea"
      },
      "execution_count": 2,
      "outputs": [
        {
          "output_type": "stream",
          "name": "stdout",
          "text": [
            "\n",
            "Lista 3, ex. a:\n",
            "Solução com tolerância =  0.1 : \n",
            "Erro! Existe coeficiente = 0 na diagonal principal.\n",
            "None\n",
            "Solução com tolerância =  0.01 : \n",
            "Erro! Existe coeficiente = 0 na diagonal principal.\n",
            "None\n",
            "Solução com tolerância =  0.001 : \n",
            "Erro! Existe coeficiente = 0 na diagonal principal.\n",
            "None\n",
            "Solução com tolerância =  0.0001 : \n",
            "Erro! Existe coeficiente = 0 na diagonal principal.\n",
            "None\n"
          ]
        }
      ]
    },
    {
      "cell_type": "code",
      "source": [
        "## EX B\n",
        "\n",
        "print(\"\\nLista 3, ex. b:\")\n",
        "lista3exB_matrizCoef = [[2, -1.5, 3],\n",
        "                        [-1, 0, 2],\n",
        "                        [4, -4.5, 5]]\n",
        "\n",
        "lista3exB_termosInd = [1,3,1]\n",
        "\n",
        "j = 0\n",
        "tolerancia = 0.1\n",
        "while j < 4:\n",
        "    print(\"Solução com tolerância = \", tolerancia, \": \")\n",
        "    vetorSolucao = [0, 0, 0]\n",
        "    solucao = metodoJacobi(lista3exB_matrizCoef, lista3exB_termosInd, len(lista3exB_termosInd), vetorSolucao, tolerancia, 30)\n",
        "    print(solucao)\n",
        "    tolerancia /= 10\n",
        "    j += 1"
      ],
      "metadata": {
        "colab": {
          "base_uri": "https://localhost:8080/"
        },
        "id": "ZCijBQxplBn8",
        "outputId": "a5ff31d3-d430-4b24-d0a4-2b2ccb1d2770"
      },
      "execution_count": 3,
      "outputs": [
        {
          "output_type": "stream",
          "name": "stdout",
          "text": [
            "\n",
            "Lista 3, ex. b:\n",
            "Solução com tolerância =  0.1 : \n",
            "Erro! Existe coeficiente = 0 na diagonal principal.\n",
            "None\n",
            "Solução com tolerância =  0.01 : \n",
            "Erro! Existe coeficiente = 0 na diagonal principal.\n",
            "None\n",
            "Solução com tolerância =  0.001 : \n",
            "Erro! Existe coeficiente = 0 na diagonal principal.\n",
            "None\n",
            "Solução com tolerância =  0.0001 : \n",
            "Erro! Existe coeficiente = 0 na diagonal principal.\n",
            "None\n"
          ]
        }
      ]
    },
    {
      "cell_type": "code",
      "source": [
        "## EX C\n",
        "\n",
        "print(\"\\nLista 3, ex. c:\")\n",
        "lista3exC_matrizCoef = [[2, 0, 0, 0],\n",
        "                        [1, 1.5, 0, 0],\n",
        "                        [0, -3, 0.5, 0],\n",
        "                        [2, -2, 1, 1]]\n",
        "\n",
        "lista3exC_termosInd = [3, 4.5, -6.6, 0.8]\n",
        "\n",
        "j = 0\n",
        "tolerancia = 0.1\n",
        "while j < 4:\n",
        "    print(\"Solução com tolerância = \", tolerancia, \": \")\n",
        "    vetorSolucao = [0, 0, 0, 0]\n",
        "    solucao = metodoJacobi(lista3exC_matrizCoef, lista3exC_termosInd, len(lista3exC_termosInd), vetorSolucao, tolerancia, 30)\n",
        "    print(solucao)\n",
        "    tolerancia /= 10\n",
        "    j += 1"
      ],
      "metadata": {
        "colab": {
          "base_uri": "https://localhost:8080/"
        },
        "id": "AD57sR2HlD9P",
        "outputId": "bdca925a-eb45-48a2-ed70-44012e6f0a38"
      },
      "execution_count": 4,
      "outputs": [
        {
          "output_type": "stream",
          "name": "stdout",
          "text": [
            "\n",
            "Lista 3, ex. c:\n",
            "Solução com tolerância =  0.1 : \n",
            "Solução encontrada:\n",
            "[1.5, 2.0, -1.1999999999999993, 2.999999999999999]\n",
            "Solução com tolerância =  0.01 : \n",
            "Solução encontrada:\n",
            "[1.5, 2.0, -1.1999999999999993, 2.999999999999999]\n",
            "Solução com tolerância =  0.001 : \n",
            "Solução encontrada:\n",
            "[1.5, 2.0, -1.1999999999999993, 2.999999999999999]\n",
            "Solução com tolerância =  0.0001 : \n",
            "Solução encontrada:\n",
            "[1.5, 2.0, -1.1999999999999993, 2.999999999999999]\n"
          ]
        }
      ]
    },
    {
      "cell_type": "code",
      "source": [
        "## EX D\n",
        "\n",
        "print(\"\\nLista 3, ex. d:\")\n",
        "lista3exD_matrizCoef = [[1, 1, 0, 1],\n",
        "                        [2, 1, -1, 1],\n",
        "                        [4, -1, -2, 2],\n",
        "                        [3, -1, -1, 2]]\n",
        "\n",
        "lista3exD_termosInd = [2,1,0,3]\n",
        "\n",
        "j = 0\n",
        "tolerancia = 0.1\n",
        "while j < 4:\n",
        "    print(\"Solução com tolerância = \", tolerancia, \": \")\n",
        "    vetorSolucao = [0, 0, 0, 0]\n",
        "    solucao = metodoJacobi(lista3exD_matrizCoef, lista3exD_termosInd, len(lista3exD_termosInd), vetorSolucao, tolerancia, 30)\n",
        "    print(solucao)\n",
        "    tolerancia /= 10\n",
        "    j += 1\n"
      ],
      "metadata": {
        "colab": {
          "base_uri": "https://localhost:8080/"
        },
        "id": "Pbs_pSTNlF_T",
        "outputId": "183240ea-3e81-4412-b4a2-dece1281cc41"
      },
      "execution_count": 5,
      "outputs": [
        {
          "output_type": "stream",
          "name": "stdout",
          "text": [
            "\n",
            "Lista 3, ex. d:\n",
            "Solução com tolerância =  0.1 : \n",
            "Erro: o número máximo de iterações excedido.\n",
            "None\n",
            "Solução com tolerância =  0.01 : \n",
            "Erro: o número máximo de iterações excedido.\n",
            "None\n",
            "Solução com tolerância =  0.001 : \n",
            "Erro: o número máximo de iterações excedido.\n",
            "None\n",
            "Solução com tolerância =  0.0001 : \n",
            "Erro: o número máximo de iterações excedido.\n",
            "None\n"
          ]
        }
      ]
    },
    {
      "cell_type": "markdown",
      "source": [
        "3) Obtenha aproximações para os sistemas abaixo, considerando-se uma tolerância de ε=0.01. A aproximação inicial fica a seu critério."
      ],
      "metadata": {
        "id": "fkUu79eHlIhu"
      }
    },
    {
      "cell_type": "code",
      "source": [
        "## EX A\n",
        "\n",
        "print(\"\\nLista 4, ex. a:\")\n",
        "lista4exA_matrizCoef = [[3, -1, 1],\n",
        "                        [3, 6, 2],\n",
        "                        [3, 3, 7]]\n",
        "\n",
        "lista4exA_termosInd = [1,0,4]\n",
        "\n",
        "tolerancia = 0.01\n",
        "print(\"\\nSolução com tolerância = \", tolerancia, \": \")\n",
        "vetorSolucao = [0, 0, 0]\n",
        "solucao = metodoJacobi(lista4exA_matrizCoef, lista4exA_termosInd, len(lista4exA_termosInd), vetorSolucao, tolerancia, 30)\n",
        "print(solucao)"
      ],
      "metadata": {
        "colab": {
          "base_uri": "https://localhost:8080/"
        },
        "id": "yu7qsrj_lO_5",
        "outputId": "15709a1e-5f03-443e-f08e-802ce3e0edfa"
      },
      "execution_count": 8,
      "outputs": [
        {
          "output_type": "stream",
          "name": "stdout",
          "text": [
            "\n",
            "Lista 4, ex. a:\n",
            "\n",
            "Solução com tolerância =  0.01 : \n",
            "Solução encontrada:\n",
            "[0.03490443796566245, -0.23975542597991575, 0.6547619047619049]\n"
          ]
        }
      ]
    },
    {
      "cell_type": "code",
      "source": [
        "## EX B\n",
        "\n",
        "print(\"\\nLista 4, ex. b:\")\n",
        "lista4exB_matrizCoef = [[10, -1, 0],\n",
        "                        [-1, 10, -2],\n",
        "                        [0, -2, 10]]\n",
        "\n",
        "lista4exB_termosInd = [9,7,6]\n",
        "\n",
        "tolerancia = 0.01\n",
        "print(\"\\nSolução com tolerância = \", tolerancia, \": \")\n",
        "vetorSolucao = [0, 0, 0]\n",
        "solucao = metodoJacobi(lista4exB_matrizCoef, lista4exB_termosInd, len(lista4exB_termosInd), vetorSolucao, tolerancia, 30)\n",
        "print(solucao)"
      ],
      "metadata": {
        "colab": {
          "base_uri": "https://localhost:8080/"
        },
        "id": "I_HrbSlwlSCq",
        "outputId": "ab6405ef-0417-4c89-c4f9-2698056cdb72"
      },
      "execution_count": 7,
      "outputs": [
        {
          "output_type": "stream",
          "name": "stdout",
          "text": [
            "\n",
            "Lista 4, ex. b:\n",
            "\n",
            "Solução com tolerância =  0.1 : \n",
            "Solução encontrada:\n",
            "[0.991, 0.945, 0.782]\n"
          ]
        }
      ]
    },
    {
      "cell_type": "code",
      "source": [
        "## EX C\n",
        "\n",
        "print(\"\\nLista 4, ex. c:\")\n",
        "lista4exC_matrizCoef = [[10, 5, 0, 0],\n",
        "                        [5, 10, -4, 0],\n",
        "                        [0, -4, 8, -1],\n",
        "                        [0, 0, -1, 5]]\n",
        "\n",
        "lista4exC_termosInd = [6, 25, -11, -11]\n",
        "\n",
        "tolerancia = 0.01\n",
        "print(\"\\nSolução com tolerância = \", tolerancia, \": \")\n",
        "vetorSolucao = [0, 0, 0, 0]\n",
        "solucao = metodoJacobi(lista4exC_matrizCoef, lista4exC_termosInd, len(lista4exC_termosInd), vetorSolucao, tolerancia, 30)\n",
        "print(solucao)"
      ],
      "metadata": {
        "colab": {
          "base_uri": "https://localhost:8080/"
        },
        "id": "WfoIYvtflT_P",
        "outputId": "54a33d32-4c77-4131-ede3-b490f35a6b5d"
      },
      "execution_count": 9,
      "outputs": [
        {
          "output_type": "stream",
          "name": "stdout",
          "text": [
            "\n",
            "Lista 4, ex. c:\n",
            "\n",
            "Solução com tolerância =  0.01 : \n",
            "Solução encontrada:\n",
            "[-0.7921388932800291, 2.7940377873144535, -0.2646472002220155, -2.2520525540478515]\n"
          ]
        }
      ]
    },
    {
      "cell_type": "code",
      "source": [
        "## EX D\n",
        "\n",
        "print(\"\\nLista 4, ex. d:\")\n",
        "lista4exD_matrizCoef = [[4, 1, 1, 0, 1],\n",
        "                        [-1, -3, 1, 1, 0],\n",
        "                        [2, 1, 5, -1, -1],\n",
        "                        [-1, -1, -1, 4, 0],\n",
        "                        [0, 2, -1, 1, 4]]\n",
        "\n",
        "lista4exD_termosInd = [6, 6, 6, 6, 6]\n",
        "\n",
        "tolerancia = 0.01\n",
        "print(\"\\nSolução com tolerância = \", tolerancia, \": \")\n",
        "vetorSolucao = [0, 0, 0, 0, 0]\n",
        "solucao = metodoJacobi(lista4exD_matrizCoef, lista4exD_termosInd, len(lista4exD_termosInd), vetorSolucao, tolerancia, 30)\n",
        "print(solucao)"
      ],
      "metadata": {
        "colab": {
          "base_uri": "https://localhost:8080/"
        },
        "id": "fi3D268NlW4j",
        "outputId": "1075b451-4fc2-4f8f-ce35-f77945f40952"
      },
      "execution_count": 10,
      "outputs": [
        {
          "output_type": "stream",
          "name": "stdout",
          "text": [
            "\n",
            "Lista 4, ex. d:\n",
            "\n",
            "Solução com tolerância =  0.01 : \n",
            "Solução encontrada:\n",
            "[0.7850751017252605, -0.9987384440104167, 1.8646296028645835, 1.9152209540473089, 1.9853847886827256]\n"
          ]
        }
      ]
    }
  ]
}